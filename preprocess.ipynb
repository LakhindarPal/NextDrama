{
 "cells": [
  {
   "cell_type": "code",
   "execution_count": 4,
   "id": "caed711b",
   "metadata": {},
   "outputs": [],
   "source": [
    "import pandas as pd\n",
    "\n",
    "# Load all metadata\n",
    "drama_df = pd.read_json(\"data/dramas.jsonl\", lines=True)\n",
    "movie_df = pd.read_json(\"data/movies.jsonl\", lines=True)\n",
    "special_df = pd.read_json(\"data/specials.jsonl\", lines=True)\n",
    "tvshow_df = pd.read_json(\"data/tvshows.jsonl\", lines=True)\n",
    "reco_df = pd.read_json(\"data/recopairs.jsonl\", lines=True)\n",
    "\n",
    "# Combine all media metadata into one dataframe\n",
    "media_df = pd.concat([drama_df, movie_df, special_df, tvshow_df], ignore_index=True)"
   ]
  },
  {
   "cell_type": "code",
   "execution_count": 5,
   "id": "86d98fcf",
   "metadata": {},
   "outputs": [],
   "source": [
    "def format_score(score_field):\n",
    "    if isinstance(score_field, dict):\n",
    "        value = score_field.get(\"value\")\n",
    "        votes = score_field.get(\"votes\")\n",
    "        if value and votes:\n",
    "            return f\"{value}/10 by {votes} users\"\n",
    "    return None\n",
    "\n",
    "\n",
    "def join_names(field):\n",
    "    if isinstance(field, list):\n",
    "        return \", \".join(\n",
    "            d[\"name\"] for d in field if isinstance(d, dict) and \"name\" in d\n",
    "        )\n",
    "    return \"\"\n",
    "\n",
    "\n",
    "def join_cast_dict(cast_field):\n",
    "    result = {\"main\": [], \"support\": [], \"guest\": []}\n",
    "    if not isinstance(cast_field, dict):\n",
    "        return result\n",
    "    for role in result:\n",
    "        people = cast_field.get(role, [])\n",
    "        if isinstance(people, list):\n",
    "            result[role] = \", \".join(\n",
    "                d[\"name\"] for d in people if isinstance(d, dict) and \"name\" in d\n",
    "            )\n",
    "    return result"
   ]
  },
  {
   "cell_type": "code",
   "execution_count": 6,
   "id": "2ffe32a9",
   "metadata": {},
   "outputs": [],
   "source": [
    "media_df[\"title\"] = media_df[\"titles\"].apply(lambda x: x.get(\"english\", None))\n",
    "media_df[\"score\"] = media_df[\"score\"].apply(format_score)\n",
    "media_df[\"network\"] = media_df[\"network\"].apply(\n",
    "    lambda x: x.get(\"name\") if isinstance(x, dict) else None\n",
    ")\n",
    "media_df[\"genres\"] = media_df[\"genres\"].apply(join_names)\n",
    "media_df[\"tags\"] = media_df[\"tags\"].apply(join_names)\n",
    "media_df[\"directors\"] = media_df[\"directors\"].apply(join_names)\n",
    "media_df[\"screenwriters\"] = media_df[\"screenwriters\"].apply(join_names)\n",
    "media_df[\"cast\"] = media_df[\"cast\"].apply(join_cast_dict)\n",
    "\n",
    "media_df.drop([\"creator\", \"titles\"], axis=1, inplace=True)"
   ]
  },
  {
   "cell_type": "code",
   "execution_count": 7,
   "id": "7721c6c9",
   "metadata": {},
   "outputs": [
    {
     "data": {
      "text/html": [
       "<div>\n",
       "<style scoped>\n",
       "    .dataframe tbody tr th:only-of-type {\n",
       "        vertical-align: middle;\n",
       "    }\n",
       "\n",
       "    .dataframe tbody tr th {\n",
       "        vertical-align: top;\n",
       "    }\n",
       "\n",
       "    .dataframe thead th {\n",
       "        text-align: right;\n",
       "    }\n",
       "</style>\n",
       "<table border=\"1\" class=\"dataframe\">\n",
       "  <thead>\n",
       "    <tr style=\"text-align: right;\">\n",
       "      <th></th>\n",
       "      <th>id</th>\n",
       "      <th>url</th>\n",
       "      <th>cover</th>\n",
       "      <th>synopsis</th>\n",
       "      <th>score</th>\n",
       "      <th>country</th>\n",
       "      <th>type</th>\n",
       "      <th>date</th>\n",
       "      <th>episodes</th>\n",
       "      <th>duration</th>\n",
       "      <th>network</th>\n",
       "      <th>genres</th>\n",
       "      <th>tags</th>\n",
       "      <th>rating</th>\n",
       "      <th>directors</th>\n",
       "      <th>screenwriters</th>\n",
       "      <th>cast</th>\n",
       "      <th>title</th>\n",
       "    </tr>\n",
       "  </thead>\n",
       "  <tbody>\n",
       "    <tr>\n",
       "      <th>0</th>\n",
       "      <td>735043</td>\n",
       "      <td>https://mydramalist.com/735043-life</td>\n",
       "      <td>https://i.mydramalist.com/5v8b2y_4c.jpg?v=1</td>\n",
       "      <td>It is a story that resembles a tribute to our ...</td>\n",
       "      <td>9.4/10 by 36138 users</td>\n",
       "      <td>South Korea</td>\n",
       "      <td>Drama</td>\n",
       "      <td>2025-03-07</td>\n",
       "      <td>16.0</td>\n",
       "      <td>1 hr. 2 min.</td>\n",
       "      <td>Netflix</td>\n",
       "      <td>Romance, Life, Drama</td>\n",
       "      <td>Healthy Mains’ Relationship, Family Relationsh...</td>\n",
       "      <td>13+ - Teens 13 or older</td>\n",
       "      <td>Kim Won Suk</td>\n",
       "      <td>Im Sang Choon</td>\n",
       "      <td>{'main': 'IU, Park Bo Gum, Moon So Ri, Park Ha...</td>\n",
       "      <td>When Life Gives You Tangerines</td>\n",
       "    </tr>\n",
       "  </tbody>\n",
       "</table>\n",
       "</div>"
      ],
      "text/plain": [
       "       id                                  url  \\\n",
       "0  735043  https://mydramalist.com/735043-life   \n",
       "\n",
       "                                         cover  \\\n",
       "0  https://i.mydramalist.com/5v8b2y_4c.jpg?v=1   \n",
       "\n",
       "                                            synopsis                  score  \\\n",
       "0  It is a story that resembles a tribute to our ...  9.4/10 by 36138 users   \n",
       "\n",
       "       country   type       date  episodes      duration  network  \\\n",
       "0  South Korea  Drama 2025-03-07      16.0  1 hr. 2 min.  Netflix   \n",
       "\n",
       "                 genres                                               tags  \\\n",
       "0  Romance, Life, Drama  Healthy Mains’ Relationship, Family Relationsh...   \n",
       "\n",
       "                    rating    directors  screenwriters  \\\n",
       "0  13+ - Teens 13 or older  Kim Won Suk  Im Sang Choon   \n",
       "\n",
       "                                                cast  \\\n",
       "0  {'main': 'IU, Park Bo Gum, Moon So Ri, Park Ha...   \n",
       "\n",
       "                            title  \n",
       "0  When Life Gives You Tangerines  "
      ]
     },
     "execution_count": 7,
     "metadata": {},
     "output_type": "execute_result"
    }
   ],
   "source": [
    "media_df.head(1)"
   ]
  },
  {
   "cell_type": "code",
   "execution_count": 8,
   "id": "4f291d92",
   "metadata": {},
   "outputs": [],
   "source": [
    "def create_soup(row):\n",
    "    parts = []\n",
    "\n",
    "    def add(label, val):\n",
    "        if val and str(val).strip().lower() != \"nan\":\n",
    "            parts.append(f\"{label}: {val}\")\n",
    "\n",
    "    add(\"Title\", row.get(\"title\"))\n",
    "    add(\"Synopsis\", row.get(\"synopsis\"))\n",
    "    add(\"Genres\", row.get(\"genres\"))\n",
    "    add(\"Tags\", row.get(\"tags\"))\n",
    "    add(\"Score\", row.get(\"score\"))\n",
    "    add(\"Rating\", row.get(\"rating\"))\n",
    "    add(\"Directors\", row.get(\"directors\"))\n",
    "    add(\"Screenwriters\", row.get(\"screenwriters\"))\n",
    "    add(\"Country\", row.get(\"country\"))\n",
    "    add(\"Type\", row.get(\"type\"))\n",
    "\n",
    "    cast = row.get(\"cast\", {})\n",
    "    if isinstance(cast, dict):\n",
    "        if cast.get(\"main\"):\n",
    "            add(\"Main Cast\", \" \".join(cast[\"main\"]))\n",
    "        if cast.get(\"host\"):\n",
    "            add(\"Host\", \" \".join(cast[\"host\"]))\n",
    "        if not cast.get(\"main\") and not cast.get(\"host\") and cast.get(\"regular\"):\n",
    "            add(\"Regular Members\", \" \".join(cast[\"regular\"]))\n",
    "\n",
    "    add(\"Date\", row.get(\"date\"))\n",
    "    add(\"Duration\", row.get(\"duration\"))\n",
    "    add(\"Network\", row.get(\"network\"))\n",
    "    add(\"Episodes\", row.get(\"episodes\"))\n",
    "\n",
    "    return \" \".join(parts)"
   ]
  },
  {
   "cell_type": "code",
   "execution_count": 9,
   "id": "ee76c13d",
   "metadata": {},
   "outputs": [],
   "source": [
    "media_df[\"soup\"] = media_df.apply(create_soup, axis=1)"
   ]
  },
  {
   "cell_type": "code",
   "execution_count": 10,
   "id": "c3b32fdb",
   "metadata": {},
   "outputs": [
    {
     "data": {
      "application/vnd.jupyter.widget-view+json": {
       "model_id": "b1477d5f3cd0414f8b9241dc8779abb0",
       "version_major": 2,
       "version_minor": 0
      },
      "text/plain": [
       "Batches:   0%|          | 0/603 [00:00<?, ?it/s]"
      ]
     },
     "metadata": {},
     "output_type": "display_data"
    },
    {
     "data": {
      "text/plain": [
       "tensor([[ 0.0799,  0.0082,  0.0028,  ...,  0.0376,  0.0175, -0.0329],\n",
       "        [ 0.0275,  0.0098, -0.0025,  ..., -0.0098,  0.0085, -0.0351],\n",
       "        [ 0.0472,  0.0686,  0.0164,  ...,  0.0070, -0.0042, -0.0081],\n",
       "        ...,\n",
       "        [-0.0267,  0.0511,  0.0340,  ...,  0.0086,  0.0420, -0.0157],\n",
       "        [ 0.0489,  0.0268, -0.0048,  ...,  0.0348,  0.0081,  0.0025],\n",
       "        [ 0.0083,  0.0620, -0.0112,  ..., -0.0066,  0.0085, -0.0725]])"
      ]
     },
     "execution_count": 10,
     "metadata": {},
     "output_type": "execute_result"
    }
   ],
   "source": [
    "from sentence_transformers import SentenceTransformer, util\n",
    "\n",
    "model = SentenceTransformer(\"sentence-transformers/all-mpnet-base-v2\")\n",
    "embeddings = model.encode(\n",
    "    media_df[\"soup\"].tolist(),\n",
    "    show_progress_bar=True,\n",
    "    convert_to_tensor=True,\n",
    ")\n",
    "\n",
    "embeddings"
   ]
  },
  {
   "cell_type": "code",
   "execution_count": 13,
   "id": "bf9b62a9",
   "metadata": {},
   "outputs": [],
   "source": [
    "import torch\n",
    "\n",
    "def recommend(title: str, top_k=5):\n",
    "    # Find the index of the media by title\n",
    "    match = media_df[media_df[\"title\"].str.lower() == title.lower()]\n",
    "    if match.empty:\n",
    "        print(\"Title not found.\")\n",
    "        return []\n",
    "\n",
    "    idx = match.index[0]\n",
    "    query = embeddings[idx]\n",
    "\n",
    "    # Compute cosine similarity with all media\n",
    "    cos_sim = util.cos_sim(query, embeddings)[0]\n",
    "\n",
    "    # Get top_k most similar (excluding self)\n",
    "    top_k_scores, top_k_indices = torch.topk(cos_sim, k=top_k + 1)\n",
    "\n",
    "    results = []\n",
    "    for score, i in zip(top_k_scores[1:], top_k_indices[1:]):  # skip self-match\n",
    "        media = media_df.iloc[i.item()]\n",
    "        results.append((media[\"title\"], score.item()))\n",
    "\n",
    "    return results"
   ]
  },
  {
   "cell_type": "code",
   "execution_count": 14,
   "id": "423be879",
   "metadata": {},
   "outputs": [
    {
     "name": "stdout",
     "output_type": "stream",
     "text": [
      "Romance in the House → Similarity: 0.7830\n",
      "Flower Boy Next Door → Similarity: 0.7812\n",
      "Architecture 101 → Similarity: 0.7768\n",
      "Unintentional Love Story Special → Similarity: 0.7732\n",
      "The Boy Next Door → Similarity: 0.7685\n"
     ]
    }
   ],
   "source": [
    "recommendations = recommend(\"love next door\", top_k=5)\n",
    "for title, score in recommendations:\n",
    "    print(f\"{title} → Similarity: {score:.4f}\")"
   ]
  },
  {
   "cell_type": "code",
   "execution_count": 15,
   "id": "f9e1feda",
   "metadata": {},
   "outputs": [
    {
     "data": {
      "text/plain": [
       "['embeddings.pkl']"
      ]
     },
     "execution_count": 15,
     "metadata": {},
     "output_type": "execute_result"
    }
   ],
   "source": [
    "import joblib\n",
    "\n",
    "joblib.dump(media_df, \"media_df.pkl\")\n",
    "joblib.dump(embeddings, \"embeddings.pkl\")"
   ]
  },
  {
   "cell_type": "code",
   "execution_count": null,
   "id": "a8bb3bdf",
   "metadata": {},
   "outputs": [],
   "source": []
  }
 ],
 "metadata": {
  "kernelspec": {
   "display_name": "nextepisode",
   "language": "python",
   "name": "python3"
  },
  "language_info": {
   "codemirror_mode": {
    "name": "ipython",
    "version": 3
   },
   "file_extension": ".py",
   "mimetype": "text/x-python",
   "name": "python",
   "nbconvert_exporter": "python",
   "pygments_lexer": "ipython3",
   "version": "3.13.4"
  }
 },
 "nbformat": 4,
 "nbformat_minor": 5
}
