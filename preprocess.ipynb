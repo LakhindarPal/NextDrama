{
 "cells": [
  {
   "cell_type": "code",
   "execution_count": 210,
   "id": "caed711b",
   "metadata": {},
   "outputs": [],
   "source": [
    "import pandas as pd\n",
    "\n",
    "# Load all metadata\n",
    "drama_df = pd.read_json(\"data/dramas.jsonl\", lines=True)\n",
    "movie_df = pd.read_json(\"data/movies.jsonl\", lines=True)\n",
    "special_df = pd.read_json(\"data/specials.jsonl\", lines=True)\n",
    "tvshow_df = pd.read_json(\"data/tvshows.jsonl\", lines=True)\n",
    "reco_df = pd.read_json(\"data/recopairs.jsonl\", lines=True)\n",
    "\n",
    "# Combine all media metadata into one dataframe\n",
    "media_df = pd.concat([drama_df, movie_df, special_df, tvshow_df], ignore_index=True)"
   ]
  },
  {
   "cell_type": "code",
   "execution_count": 211,
   "id": "86d98fcf",
   "metadata": {},
   "outputs": [],
   "source": [
    "def format_score(score_field):\n",
    "    if isinstance(score_field, dict):\n",
    "        value = score_field.get(\"value\")\n",
    "        votes = score_field.get(\"votes\")\n",
    "        if value and votes:\n",
    "            return f\"{value}/10 by {votes} users\"\n",
    "    return None\n",
    "\n",
    "\n",
    "def join_names(field):\n",
    "    if isinstance(field, list):\n",
    "        return \", \".join(\n",
    "            d[\"name\"] for d in field if isinstance(d, dict) and \"name\" in d\n",
    "        )\n",
    "    return \"\"\n",
    "\n",
    "\n",
    "def join_cast_dict(cast_field):\n",
    "    result = {\"main\": [], \"support\": [], \"guest\": []}\n",
    "    if not isinstance(cast_field, dict):\n",
    "        return result\n",
    "    for role in result:\n",
    "        people = cast_field.get(role, [])\n",
    "        if isinstance(people, list):\n",
    "            result[role] = \", \".join(\n",
    "                d[\"name\"] for d in people if isinstance(d, dict) and \"name\" in d\n",
    "            )\n",
    "    return result"
   ]
  },
  {
   "cell_type": "code",
   "execution_count": 212,
   "id": "2ffe32a9",
   "metadata": {},
   "outputs": [],
   "source": [
    "media_df[\"title\"] = media_df[\"titles\"].apply(lambda x: x.get(\"english\", None))\n",
    "media_df[\"score\"] = media_df[\"score\"].apply(format_score)\n",
    "media_df[\"network\"] = media_df[\"network\"].apply(\n",
    "    lambda x: x.get(\"name\") if isinstance(x, dict) else None\n",
    ")\n",
    "media_df[\"genres\"] = media_df[\"genres\"].apply(join_names)\n",
    "media_df[\"tags\"] = media_df[\"tags\"].apply(join_names)\n",
    "media_df[\"directors\"] = media_df[\"directors\"].apply(join_names)\n",
    "media_df[\"screenwriters\"] = media_df[\"screenwriters\"].apply(join_names)\n",
    "media_df[\"cast\"] = media_df[\"cast\"].apply(join_cast_dict)\n",
    "\n",
    "media_df.drop([\"creator\", \"titles\"], axis=1, inplace=True)"
   ]
  },
  {
   "cell_type": "code",
   "execution_count": 213,
   "id": "7721c6c9",
   "metadata": {},
   "outputs": [
    {
     "data": {
      "text/html": [
       "<div>\n",
       "<style scoped>\n",
       "    .dataframe tbody tr th:only-of-type {\n",
       "        vertical-align: middle;\n",
       "    }\n",
       "\n",
       "    .dataframe tbody tr th {\n",
       "        vertical-align: top;\n",
       "    }\n",
       "\n",
       "    .dataframe thead th {\n",
       "        text-align: right;\n",
       "    }\n",
       "</style>\n",
       "<table border=\"1\" class=\"dataframe\">\n",
       "  <thead>\n",
       "    <tr style=\"text-align: right;\">\n",
       "      <th></th>\n",
       "      <th>id</th>\n",
       "      <th>url</th>\n",
       "      <th>cover</th>\n",
       "      <th>synopsis</th>\n",
       "      <th>score</th>\n",
       "      <th>country</th>\n",
       "      <th>type</th>\n",
       "      <th>date</th>\n",
       "      <th>episodes</th>\n",
       "      <th>duration</th>\n",
       "      <th>network</th>\n",
       "      <th>genres</th>\n",
       "      <th>tags</th>\n",
       "      <th>rating</th>\n",
       "      <th>directors</th>\n",
       "      <th>screenwriters</th>\n",
       "      <th>cast</th>\n",
       "      <th>title</th>\n",
       "    </tr>\n",
       "  </thead>\n",
       "  <tbody>\n",
       "    <tr>\n",
       "      <th>0</th>\n",
       "      <td>735043</td>\n",
       "      <td>https://mydramalist.com/735043-life</td>\n",
       "      <td>https://i.mydramalist.com/5v8b2y_4c.jpg?v=1</td>\n",
       "      <td>It is a story that resembles a tribute to our ...</td>\n",
       "      <td>9.4/10 by 36138 users</td>\n",
       "      <td>South Korea</td>\n",
       "      <td>Drama</td>\n",
       "      <td>2025-03-07</td>\n",
       "      <td>16.0</td>\n",
       "      <td>1 hr. 2 min.</td>\n",
       "      <td>Netflix</td>\n",
       "      <td>Romance, Life, Drama</td>\n",
       "      <td>Healthy Mains’ Relationship, Family Relationsh...</td>\n",
       "      <td>13+ - Teens 13 or older</td>\n",
       "      <td>Kim Won Suk</td>\n",
       "      <td>Im Sang Choon</td>\n",
       "      <td>{'main': 'IU, Park Bo Gum, Moon So Ri, Park Ha...</td>\n",
       "      <td>When Life Gives You Tangerines</td>\n",
       "    </tr>\n",
       "  </tbody>\n",
       "</table>\n",
       "</div>"
      ],
      "text/plain": [
       "       id                                  url  \\\n",
       "0  735043  https://mydramalist.com/735043-life   \n",
       "\n",
       "                                         cover  \\\n",
       "0  https://i.mydramalist.com/5v8b2y_4c.jpg?v=1   \n",
       "\n",
       "                                            synopsis                  score  \\\n",
       "0  It is a story that resembles a tribute to our ...  9.4/10 by 36138 users   \n",
       "\n",
       "       country   type       date  episodes      duration  network  \\\n",
       "0  South Korea  Drama 2025-03-07      16.0  1 hr. 2 min.  Netflix   \n",
       "\n",
       "                 genres                                               tags  \\\n",
       "0  Romance, Life, Drama  Healthy Mains’ Relationship, Family Relationsh...   \n",
       "\n",
       "                    rating    directors  screenwriters  \\\n",
       "0  13+ - Teens 13 or older  Kim Won Suk  Im Sang Choon   \n",
       "\n",
       "                                                cast  \\\n",
       "0  {'main': 'IU, Park Bo Gum, Moon So Ri, Park Ha...   \n",
       "\n",
       "                            title  \n",
       "0  When Life Gives You Tangerines  "
      ]
     },
     "execution_count": 213,
     "metadata": {},
     "output_type": "execute_result"
    }
   ],
   "source": [
    "media_df.head(1)"
   ]
  },
  {
   "cell_type": "code",
   "execution_count": 214,
   "id": "4f291d92",
   "metadata": {},
   "outputs": [],
   "source": [
    "def create_soup(row):\n",
    "    parts = []\n",
    "\n",
    "    def add(label, val):\n",
    "        if val and str(val).strip().lower() != \"nan\":\n",
    "            parts.append(f\"{label}: {val}\")\n",
    "\n",
    "    add(\"Title\", row.get(\"title\"))\n",
    "    add(\"Synopsis\", row.get(\"synopsis\"))\n",
    "    add(\"Genres\", row.get(\"genres\"))\n",
    "    add(\"Tags\", row.get(\"tags\"))\n",
    "    add(\"Score\", row.get(\"score\"))\n",
    "    add(\"Rating\", row.get(\"rating\"))\n",
    "    add(\"Directors\", row.get(\"directors\"))\n",
    "    add(\"Screenwriters\", row.get(\"screenwriters\"))\n",
    "    add(\"Country\", row.get(\"country\"))\n",
    "    add(\"Type\", row.get(\"type\"))\n",
    "    add(\"Date\", row.get(\"date\"))\n",
    "    add(\"Duration\", row.get(\"duration\"))\n",
    "    add(\"Network\", row.get(\"network\"))\n",
    "    add(\"Episodes\", row.get(\"episodes\"))\n",
    "\n",
    "    cast = row.get(\"cast\", {})\n",
    "    if isinstance(cast, dict):\n",
    "        for role in [\"main\", \"host\"]:\n",
    "            if cast.get(role):\n",
    "                add(f\"{role.capitalize()} Cast\", \" \".join(cast[role]))\n",
    "\n",
    "    return \" \".join(parts)"
   ]
  },
  {
   "cell_type": "code",
   "execution_count": 215,
   "id": "ee76c13d",
   "metadata": {},
   "outputs": [],
   "source": [
    "media_df[\"soup\"] = media_df.apply(create_soup, axis=1)"
   ]
  },
  {
   "cell_type": "code",
   "execution_count": 219,
   "id": "c3b32fdb",
   "metadata": {},
   "outputs": [
    {
     "data": {
      "application/vnd.jupyter.widget-view+json": {
       "model_id": "8cb36fa170224c5a9e42dfffe6cc900d",
       "version_major": 2,
       "version_minor": 0
      },
      "text/plain": [
       "Batches:   0%|          | 0/603 [00:00<?, ?it/s]"
      ]
     },
     "metadata": {},
     "output_type": "display_data"
    },
    {
     "data": {
      "text/plain": [
       "tensor([[ 0.0806,  0.0054,  0.0013,  ...,  0.0383,  0.0193, -0.0324],\n",
       "        [ 0.0238,  0.0137, -0.0026,  ..., -0.0102,  0.0089, -0.0317],\n",
       "        [ 0.0447,  0.0714,  0.0140,  ...,  0.0071, -0.0037, -0.0057],\n",
       "        ...,\n",
       "        [-0.0267,  0.0511,  0.0340,  ...,  0.0086,  0.0420, -0.0157],\n",
       "        [ 0.0489,  0.0268, -0.0048,  ...,  0.0348,  0.0081,  0.0025],\n",
       "        [ 0.0083,  0.0620, -0.0112,  ..., -0.0066,  0.0085, -0.0725]])"
      ]
     },
     "execution_count": 219,
     "metadata": {},
     "output_type": "execute_result"
    }
   ],
   "source": [
    "from sentence_transformers import SentenceTransformer, util\n",
    "\n",
    "model = SentenceTransformer(\"sentence-transformers/all-mpnet-base-v2\")\n",
    "embeddings = model.encode(\n",
    "    media_df[\"soup\"].tolist(),\n",
    "    show_progress_bar=True,\n",
    "    convert_to_tensor=True,\n",
    ")\n",
    "\n",
    "embeddings"
   ]
  },
  {
   "cell_type": "code",
   "execution_count": 220,
   "id": "bf9b62a9",
   "metadata": {},
   "outputs": [],
   "source": [
    "def recommend(title: str, top_k=5):\n",
    "    # Find the index of the media by title\n",
    "    match = media_df[media_df[\"title\"].str.lower() == title.lower()]\n",
    "    if match.empty:\n",
    "        print(\"Title not found.\")\n",
    "        return []\n",
    "\n",
    "    idx = match.index[0]\n",
    "    query = embeddings[idx]\n",
    "\n",
    "    # Compute cosine similarity with all media\n",
    "    cos_sim = util.cos_sim(query, embeddings)[0]\n",
    "\n",
    "    # Get top_k most similar (excluding self)\n",
    "    top_k_scores, top_k_indices = torch.topk(cos_sim, k=top_k + 1)\n",
    "\n",
    "    results = []\n",
    "    for score, i in zip(top_k_scores[1:], top_k_indices[1:]):  # skip self-match\n",
    "        media = media_df.iloc[i.item()]\n",
    "        results.append((media[\"title\"], score.item()))\n",
    "\n",
    "    return results"
   ]
  },
  {
   "cell_type": "code",
   "execution_count": 229,
   "id": "423be879",
   "metadata": {},
   "outputs": [
    {
     "name": "stdout",
     "output_type": "stream",
     "text": [
      "My First First Love → Similarity: 0.7921\n",
      "More Than Friends → Similarity: 0.7876\n",
      "The Boy Next Door → Similarity: 0.7863\n",
      "EXO Next Door → Similarity: 0.7843\n",
      "Flower Boy Next Door → Similarity: 0.7811\n"
     ]
    }
   ],
   "source": [
    "recommendations = recommend(\"love next door\", top_k=5)\n",
    "for title, score in recommendations:\n",
    "    print(f\"{title} → Similarity: {score:.4f}\")"
   ]
  },
  {
   "cell_type": "code",
   "execution_count": 232,
   "id": "f9e1feda",
   "metadata": {},
   "outputs": [
    {
     "data": {
      "text/plain": [
       "['embeddings.jl']"
      ]
     },
     "execution_count": 232,
     "metadata": {},
     "output_type": "execute_result"
    }
   ],
   "source": [
    "import joblib\n",
    "\n",
    "joblib.dump(media_df, \"media_df.pkl\")\n",
    "joblib.dump(embeddings, \"embeddings.jl\")\n"
   ]
  },
  {
   "cell_type": "code",
   "execution_count": 236,
   "id": "23fa7ca1",
   "metadata": {},
   "outputs": [
    {
     "name": "stdout",
     "output_type": "stream",
     "text": [
      "<class 'pandas.core.frame.DataFrame'>\n",
      "RangeIndex: 19274 entries, 0 to 19273\n",
      "Data columns (total 19 columns):\n",
      " #   Column         Non-Null Count  Dtype         \n",
      "---  ------         --------------  -----         \n",
      " 0   id             19274 non-null  int64         \n",
      " 1   url            19274 non-null  object        \n",
      " 2   cover          19215 non-null  object        \n",
      " 3   synopsis       19274 non-null  object        \n",
      " 4   score          16269 non-null  object        \n",
      " 5   country        19274 non-null  object        \n",
      " 6   type           19274 non-null  object        \n",
      " 7   date           18826 non-null  datetime64[ns]\n",
      " 8   episodes       14307 non-null  float64       \n",
      " 9   duration       19274 non-null  object        \n",
      " 10  network        12057 non-null  object        \n",
      " 11  genres         19274 non-null  object        \n",
      " 12  tags           19274 non-null  object        \n",
      " 13  rating         8909 non-null   object        \n",
      " 14  directors      19274 non-null  object        \n",
      " 15  screenwriters  19274 non-null  object        \n",
      " 16  cast           19274 non-null  object        \n",
      " 17  title          19274 non-null  object        \n",
      " 18  soup           19274 non-null  object        \n",
      "dtypes: datetime64[ns](1), float64(1), int64(1), object(16)\n",
      "memory usage: 2.8+ MB\n"
     ]
    }
   ],
   "source": [
    "media_df.info()"
   ]
  },
  {
   "cell_type": "code",
   "execution_count": null,
   "id": "36329de0",
   "metadata": {},
   "outputs": [],
   "source": []
  }
 ],
 "metadata": {
  "kernelspec": {
   "display_name": "drama-recommendation-system",
   "language": "python",
   "name": "python3"
  },
  "language_info": {
   "codemirror_mode": {
    "name": "ipython",
    "version": 3
   },
   "file_extension": ".py",
   "mimetype": "text/x-python",
   "name": "python",
   "nbconvert_exporter": "python",
   "pygments_lexer": "ipython3",
   "version": "3.13.4"
  }
 },
 "nbformat": 4,
 "nbformat_minor": 5
}
